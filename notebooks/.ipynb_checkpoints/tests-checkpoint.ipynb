{
 "cells": [
  {
   "cell_type": "code",
   "execution_count": 3,
   "metadata": {},
   "outputs": [],
   "source": [
    "import requests"
   ]
  },
  {
   "cell_type": "code",
   "execution_count": 17,
   "metadata": {},
   "outputs": [],
   "source": [
    "acadonline_urls = {\n",
    "    \"home\": \"https://sistemas.uepg.br/academicoonline/login/index\",\n",
    "    \"auth\": \"https://sistemas.uepg.br/academicoonline/login/authenticate\",\n",
    "    \"grades\": \"https://sistemas.uepg.br/academicoonline/avaliacaoDesempenho/index\",\n",
    "}"
   ]
  },
  {
   "cell_type": "code",
   "execution_count": 18,
   "metadata": {},
   "outputs": [
    {
     "name": "stdout",
     "output_type": "stream",
     "text": [
      "{'JSESSIONID': 'B7B29D86C65615AABB2BA3652F17CC71'}\n",
      "{'cookie': 'JSESSIONID=B7B29D86C65615AABB2BA3652F17CC71;'}\n"
     ]
    }
   ],
   "source": [
    "index = requests.get(acadonline_urls[\"home\"])\n",
    "headers_raw = dict((key, value) for key, value in index.cookies.items())\n",
    "print(headers_raw)\n",
    "headers = {\"cookie\": f'JSESSIONID={headers_raw[\"JSESSIONID\"]};'}\n",
    "print(headers)"
   ]
  },
  {
   "cell_type": "code",
   "execution_count": 19,
   "metadata": {},
   "outputs": [],
   "source": [
    "user = {\n",
    "    'login': \"14147326\",\n",
    "    'password': \"\"\n",
    "}"
   ]
  },
  {
   "cell_type": "code",
   "execution_count": 20,
   "metadata": {},
   "outputs": [],
   "source": [
    "auth = requests.post(acadonline_urls[\"auth\"], user, headers=headers)"
   ]
  },
  {
   "cell_type": "code",
   "execution_count": 21,
   "metadata": {},
   "outputs": [
    {
     "data": {
      "text/plain": [
       "{'Server': 'nginx/1.10.3', 'Date': 'Tue, 04 Sep 2018 03:10:49 GMT', 'Content-Type': 'text/html;charset=UTF-8', 'Transfer-Encoding': 'chunked', 'Connection': 'keep-alive', 'Strict-Transport-Security': 'max-age=31536000; includeSubDomains, max-age=31536000; includeSubDomains', 'Set-Cookie': 'JSESSIONID=4622FDE4F5EB314626B87D7E15025BA7; Path=/academicoonline/; Secure; HttpOnly', 'Vary': 'Accept-Encoding', 'Content-Encoding': 'gzip'}"
      ]
     },
     "execution_count": 21,
     "metadata": {},
     "output_type": "execute_result"
    }
   ],
   "source": [
    "auth.headers"
   ]
  },
  {
   "cell_type": "code",
   "execution_count": 24,
   "metadata": {},
   "outputs": [],
   "source": [
    "grades = requests.get(acadonline_urls['grades'], headers=headers)"
   ]
  },
  {
   "cell_type": "code",
   "execution_count": 25,
   "metadata": {},
   "outputs": [
    {
     "data": {
      "text/plain": [
       "b'<!DOCTYPE html>\\r\\n\\r\\n<div id=\"grailsLogo\" role=\"banner\"> \\r\\n    <a href=\"http://uepg.br\" target=\"new _blank\"><img  src=\"/academicoonline/assets/logo_uepg-4c3b52d0444dbd99db847eab87a575a3.png\" alt=\"UEPG\"/></a>\\r\\n    <div id=\"cabecalho\">Universidade Estadual de Ponta Grossa</div>\\r\\n    <div id=\"cabecalho2\">\\r\\n        <a href=\"/academicoonline/\" class=\"linkum\" target=\"\" alt=\"Academico\" title=\"Academico\">IN\\xc3\\x8dCIO</a>\\r\\n        -<a href=\"http://uepg.br/cpd/\" class=\"linkum\" target=\"CPD\" alt=\"N\\xc3\\xbacleo de Tecnologia de Informa\\xc3\\xa7\\xc3\\xa3o\" title=\"N\\xc3\\xbacleo de Tecnologia de Informa\\xc3\\xa7\\xc3\\xa3o\">NTI</a>\\r\\n        -<a href=\"http://uepg.br/prograd/\" class=\"linkum\" alt=\"Pr&amp;oacute;-Reitoria de Gradua&amp;ccedil;&amp;atilde;o\" title=\"Pr\\xc3\\xb3-Reitoria de Gradua\\xc3\\xa7\\xc3\\xa3o\" target=\"PROGRAD\">PROGRAD</a>\\r\\n    </div>\\r\\n\\r\\n\\r\\n    <div id=\"logadoHeader\">\\r\\n        <p align=\"right\"> PAULO ALVES DOS SANTOS JUNIOR </p>\\r\\n        </div>\\r\\n        <div id=\"loginHeader\">\\r\\n            <p align=\"left\"><a href=\"/academicoonline/login/logout\">\\n    \\t\\t<img src=\"/academicoonline/assets/door_out-feb62122b1671324dfd26afeed1d706a.png\" border=0  \\n\\n    \\t\\talt=\"Sair do Sistema\" title=\"Sair do Sistema\" />\\n    \\t\\t   \\t\\t</a></p>\\r\\n        </div>\\r\\n        <div class=\"header\">\\r\\n        </div>\\r\\n\\r\\n</div>\\r\\n\\r\\n<!--[if lt IE 7 ]> <html lang=\"en\" class=\"no-js ie6\"> <![endif]-->\\r\\n<!--[if IE 7 ]>    <html lang=\"en\" class=\"no-js ie7\"> <![endif]-->\\r\\n<!--[if IE 8 ]>    <html lang=\"en\" class=\"no-js ie8\"> <![endif]-->\\r\\n<!--[if IE 9 ]>    <html lang=\"en\" class=\"no-js ie9\"> <![endif]-->\\r\\n<!--[if (gt IE 9)|!(IE)]><!--> <html lang=\"en\" class=\"no-js\"><!--<![endif]-->\\r\\n    <head>\\r\\n        <meta http-equiv=\"Content-Type\" content=\"text/html; charset=UTF-8\">\\r\\n        <meta http-equiv=\"X-UA-Compatible\" content=\"IE=edge,chrome=1\">\\r\\n        <title>Avaliacao de Desempenho List</title>\\r\\n        <meta name=\"viewport\" content=\"width=device-width, initial-scale=1.0\">\\r\\n        <link rel=\"shortcut icon\" href=\"/academicoonline/assets/favicon-706a429fd3f1137058f52812adf02ac7.ico\" type=\"image/x-icon\">\\r\\n        <link rel=\"apple-touch-icon\" href=\"/academicoonline/assets/apple-touch-icon-c915103363017d14cea9c2a46ea12166.png\">\\r\\n        <link rel=\"apple-touch-icon\" sizes=\"114x114\" href=\"/academicoonline/assets/apple-touch-icon-retina-21d524e96ee946f16c9b8fb4ea0c3f6e.png\">\\r\\n       <!-- <script src=\"https://ajax.googleapis.com/ajax/libs/jquery/1.11.3/jquery.min.js\"></script> -->\\r\\n    <link rel=\"stylesheet\" href=\"/academicoonline/assets/estilo-a77627b1200a5c96f3a82cb93711c98a.css\"/>\\r\\n    <link rel=\"stylesheet\" href=\"/academicoonline/assets/bootstrap-6576209c0df1805785561f422886cbbb.css\"/>\\r\\n    <link rel=\"stylesheet\" href=\"/academicoonline/assets/bootstrap-submenu-b7ba21425e5ac2e83aadb50a0e7060ec.css\"/>\\r\\n    <link rel=\"stylesheet\" href=\"/academicoonline/assets/bootstrap-submenu.min-13f9716a360e6a8dfabdb458138daaeb.css\"/>   \\r\\n    \\r\\n    <script src=\"/academicoonline/assets/jquery-2.2.0.min-954ae53dadbc4347dcc8d960064e22aa.js\" type=\"text/javascript\" ></script>\\r\\n \\r\\n\\r\\n    <script type=\"text/javascript\">\\r\\n        function IEHoverPseudo() {\\r\\n\\r\\n        var navItems = document.getElementById(\"primary-nav\").getElementsByTagName(\"li\");\\r\\n\\r\\n        for (var i=0; i<navItems.length; i++) {\\r\\n        if(navItems[i].className == \"menuparent\") {\\r\\n        navItems[i].onmouseover=function() { this.className += \" over\"; }\\r\\n        navItems[i].onmouseout=function() { this.className = \"menuparent\"; }\\r\\n        }\\r\\n        }\\r\\n\\r\\n        }\\r\\n        window.onload = IEHoverPseudo;\\r\\n    \\r\\n    </script>\\r\\n\\r\\n\\r\\n\\r\\n\\r\\n    \\r\\n\\t\\t<meta name=\"layout\" content=\"main\">\\r\\n\\t\\t\\r\\n\\t\\t\\r\\n                \\r\\n           \\r\\n                \\r\\n\\t\\r\\n</head>\\r\\n<body>\\r\\n\\r\\n    <nav class=\"navbar navbar-default\">\\r\\n        <div class=\"container-fluid\">\\r\\n            <div class=\"navbar-header\">\\r\\n                <button type=\"button\" class=\"navbar-toggle collapsed\" data-toggle=\"collapse\" data-target=\"#bs-example-navbar-collapse-1\" aria-expanded=\"false\">\\r\\n                    <span class=\"sr-only\">Toggle navigation</span>\\r\\n                    <span class=\"icon-bar\"></span>\\r\\n                    <span class=\"icon-bar\"></span>\\r\\n                    <span class=\"icon-bar\"></span>\\r\\n                </button>\\r\\n            </div>\\r\\n\\r\\n            <div class=\"collapse navbar-collapse\" id=\"bs-example-navbar-collapse-1\">\\r\\n                <ul class=\"nav navbar-nav\">\\r\\n\\r\\n                    <li class=\"dropdown\">\\r\\n                        <a href=\"#\" class=\"dropdown-toggle \" data-toggle=\"dropdown\" role=\"button\" aria-haspopup=\"true\" aria-expanded=\"false\">Perfil<span class=\"caret\"></span></a>\\r\\n                        <ul class=\"dropdown-menu multi-level\" role=\"menu\" aria-labelledby=\"dropdownMenu\">\\r\\n\\r\\n\\r\\n                            <li><a href=\"/academicoonline/academico_pessoa/academico_validacao\">Dados Pessoais</a></li>\\r\\n\\r\\n                            <li><a href=\"/academicoonline/academico_foto/verifica\">Identidade Estudantil</a></li>\\r\\n\\r\\n                            <li><a href=\"/academicoonline/academico_cor_raca_deficiencia/create\">Dados Censo</a></li>\\r\\n                                <li role=\"separator\" class=\"divider\"></li>\\r\\n                            \\r\\n                            <li class=\"text-center\"><strong>Senha</strong></li>\\r\\n                            <li><a href=\"/academicoonline/academico/edit\">Modificar Senha</a></li>\\r\\n                            <li><a href=\"/academicoonline/recuperarSenha/passo1\">Recuperar Senha</a></li>\\r\\n\\r\\n\\r\\n\\r\\n                        </ul>\\r\\n                    </li>\\r\\n\\r\\n                    <li><a href=\"/academicoonline/documentos/index\">Documentos</a></li>\\r\\n\\r\\n                    <li><a href=\"/academicoonline/avaliacaoDesempenho/index\">Notas</a></li>\\r\\n\\r\\n                    <li><a href=\"/academicoonline/atividadeComplementar/index\">Ativ.Complementar</a></li>\\r\\n\\r\\n                    <li><a href=\"/academicoonline/academico_imposicao_grau/verificar\">Imposi\\xc3\\xa7\\xc3\\xa3o de Grau</a></li>  \\r\\n\\r\\n                    <li class=\"dropdown\">\\r\\n                        <a href=\"#\" class=\"dropdown-toggle\" data-toggle=\"dropdown\" role=\"button\" aria-haspopup=\"true\" aria-expanded=\"false\">Est\\xc3\\xa1gio<span class=\"caret\"></span></a>\\r\\n                        <ul class=\"dropdown-menu\">\\r\\n                            <li class=\"menu\"><a href=\"https://sistemas.uepg.br/academicoonline/docs/Instru\\xc3\\xa7\\xc3\\xb5es_Termo_de_Compromisso.pdf\" target=\"_blank\">Instru\\xc3\\xa7\\xc3\\xb5es para Est\\xc3\\xa1gio</a></li> \\r\\n                            <li class=\"menu\"><a href=\"/academicoonline/academicoTermoGeral/index\">Termo de Compromisso (Geral)</a></li> \\r\\n                            <li class=\"menu\"><a href=\"/academicoonline/academicoTermoLic/index\">Termo de Compromisso (Licenciaturas)</a></li> \\r\\n\\r\\n                        </ul>\\r\\n                    </li>\\r\\n\\r\\n                    <li><a href=\"/academicoonline/downloads/index\">Downloads</a></li>  \\r\\n\\r\\n                    <li class=\"dropdown\">\\r\\n                        <a href=\"#\" class=\"dropdown-toggle\" data-toggle=\"dropdown\" role=\"button\" aria-haspopup=\"true\" aria-expanded=\"false\">Contatos<span class=\"caret\"></span></a>\\r\\n                        <ul class=\"dropdown-menu\">\\r\\n                            <li class=\"menu\"><a href=\"/academicoonline/contato/index?setor=1\" alt=\"fone: 3220-3701\" title=\"fone: 3220-3701\">Fale com a PROGRAD- Ensino Presencial</a></li>\\r\\n\\r\\n                            <li class=\"menu\"><a href=\"/academicoonline/contato/index?setor=2\">Fale com a PROGRAD- Ensino \\xc3\\xa0 Dist&acirc;ncia</a></li>\\r\\n                            <li class=\"menu\"><a href=\"/academicoonline/contato/index?setor=3\">Fale com Membro Discente-CA</a></li>\\r\\n                            <li class=\"menu\"><a href=\"/academicoonline/contato/index?setor=4\">Fale com Membro Discente-CEPE</a></li>\\r\\n\\r\\n\\r\\n                        </ul>\\r\\n                    </li>\\r\\n\\r\\n                    \\r\\n                </ul>\\r\\n\\r\\n            </div><!-- /.navbar-collapse -->\\r\\n        </div><!-- /.container-fluid -->\\r\\n    </nav>  \\r\\n\\r\\n    \\r\\n\\t <div class=\"container-fluid\">\\t\\r\\n\\t\\t<div id=\"list-avaliacaoDesempenho\" class=\"content scaffold-list\" role=\"main\">\\r\\n\\t\\t\\t<h3>Avalia\\xc3\\xa7\\xc3\\xa3o de Desempenho</h3>\\r\\n\\t\\t\\t\\r\\n\\t\\t\\t\\t<div class=\"message\" role=\"status\">Conex\\xc3\\xa3o efetuada com sucesso!</div>\\r\\n\\t\\t\\t\\r\\n                        <div class=\"table-responsive\"> \\r\\n\\t\\t\\t<table class=\"table table-striped table-bordered\">\\r\\n\\t\\t\\t<thead>\\r\\n\\t\\t\\t\\t\\t<tr>\\r\\n                                            \\r\\n                                            <th>C\\xc3\\xb3digo</th>\\r\\n                                                <th>Nome</th>\\r\\n                                                <th>Turma</th>\\r\\n                                                <th>Calend\\xc3\\xa1rio</th>\\r\\n                                                <th>Faltas</th>\\r\\n                                                <th>Nota1</th>\\r\\n                                                <th>Nota2</th>\\r\\n                                                <th>NotaE</th>\\r\\n                                                <th>M\\xc3\\xa9dia</th>\\r\\n                                                <th>%Freq.</th>\\r\\n                                                <th>Cond.</th>    \\r\\n\\t\\t\\t\\t\\t\\r\\n\\t\\t\\t\\t\\t</tr>\\r\\n\\t\\t\\t\\t</thead>\\r\\n\\t\\t\\t\\t<tbody>\\r\\n\\t\\t\\t\\t\\r\\n\\t\\t\\t\\t\\t<tr class=\"even\">\\r\\n\\t\\t\\t\\t\\t\\r\\n\\t\\t\\t\\t\\t\\t<td>203076</td>\\r\\n\\t\\t\\t\\t\\t\\r\\n\\t\\t\\t\\t\\t\\t<td style=\"width: 600px;\">Orienta\\xc3\\xa7\\xc3\\xa3o de Trabalho de Conclus\\xc3\\xa3o de Curso</td>\\r\\n\\t\\t\\t\\t\\t\\r\\n\\t\\t\\t\\t\\t\\t<td>T</td>\\r\\n\\t\\t\\t\\t\\t\\r\\n\\t\\t\\t\\t\\t\\t<td style=\"width: 130px;\">2018</td>\\r\\n                                                \\r\\n                                                <td>0</td>\\r\\n                                                \\r\\n                                                <td style=\"color:blue;\"></td>\\r\\n                                                \\r\\n                                                <td style=\"color:blue;\"></td>\\r\\n                                                \\r\\n                                                <td style=\"color:blue;\"></td>\\r\\n                                                \\r\\n                                                <td>0</td>\\r\\n                                                \\r\\n                                                <td>100</td>\\r\\n                                                \\r\\n                                                <td>R</td>\\r\\n                                                \\r\\n\\t\\t\\t\\t\\t\\r\\n\\t\\t\\t\\t\\t</tr>\\r\\n\\t\\t\\t\\t\\r\\n\\t\\t\\t\\t\\t<tr class=\"odd\">\\r\\n\\t\\t\\t\\t\\t\\r\\n\\t\\t\\t\\t\\t\\t<td>203069</td>\\r\\n\\t\\t\\t\\t\\t\\r\\n\\t\\t\\t\\t\\t\\t<td style=\"width: 600px;\">Empreendedorismo</td>\\r\\n\\t\\t\\t\\t\\t\\r\\n\\t\\t\\t\\t\\t\\t<td>A</td>\\r\\n\\t\\t\\t\\t\\t\\r\\n\\t\\t\\t\\t\\t\\t<td style=\"width: 130px;\">2018-1</td>\\r\\n                                                \\r\\n                                                <td>0</td>\\r\\n                                                \\r\\n                                                <td style=\"color:blue;\">9</td>\\r\\n                                                \\r\\n                                                <td style=\"color:blue;\">8</td>\\r\\n                                                \\r\\n                                                <td style=\"color:blue;\"></td>\\r\\n                                                \\r\\n                                                <td>8.5</td>\\r\\n                                                \\r\\n                                                <td>100</td>\\r\\n                                                \\r\\n                                                <td>A</td>\\r\\n                                                \\r\\n\\t\\t\\t\\t\\t\\r\\n\\t\\t\\t\\t\\t</tr>\\r\\n\\t\\t\\t\\t\\r\\n\\t\\t\\t\\t\\t<tr class=\"even\">\\r\\n\\t\\t\\t\\t\\t\\r\\n\\t\\t\\t\\t\\t\\t<td>203070</td>\\r\\n\\t\\t\\t\\t\\t\\r\\n\\t\\t\\t\\t\\t\\t<td style=\"width: 600px;\">Computadores e Sociedade</td>\\r\\n\\t\\t\\t\\t\\t\\r\\n\\t\\t\\t\\t\\t\\t<td>A</td>\\r\\n\\t\\t\\t\\t\\t\\r\\n\\t\\t\\t\\t\\t\\t<td style=\"width: 130px;\">2018-1</td>\\r\\n                                                \\r\\n                                                <td>6</td>\\r\\n                                                \\r\\n                                                <td style=\"color:blue;\">10</td>\\r\\n                                                \\r\\n                                                <td style=\"color:blue;\">9</td>\\r\\n                                                \\r\\n                                                <td style=\"color:blue;\"></td>\\r\\n                                                \\r\\n                                                <td>9.5</td>\\r\\n                                                \\r\\n                                                <td>88</td>\\r\\n                                                \\r\\n                                                <td>A</td>\\r\\n                                                \\r\\n\\t\\t\\t\\t\\t\\r\\n\\t\\t\\t\\t\\t</tr>\\r\\n\\t\\t\\t\\t\\r\\n\\t\\t\\t\\t\\t<tr class=\"odd\">\\r\\n\\t\\t\\t\\t\\t\\r\\n\\t\\t\\t\\t\\t\\t<td>203082</td>\\r\\n\\t\\t\\t\\t\\t\\r\\n\\t\\t\\t\\t\\t\\t<td style=\"width: 600px;\">Rob\\xc3\\xb3tica</td>\\r\\n\\t\\t\\t\\t\\t\\r\\n\\t\\t\\t\\t\\t\\t<td>A</td>\\r\\n\\t\\t\\t\\t\\t\\r\\n\\t\\t\\t\\t\\t\\t<td style=\"width: 130px;\">2018-1</td>\\r\\n                                                \\r\\n                                                <td>4</td>\\r\\n                                                \\r\\n                                                <td style=\"color:blue;\">8.5</td>\\r\\n                                                \\r\\n                                                <td style=\"color:blue;\">8.5</td>\\r\\n                                                \\r\\n                                                <td style=\"color:blue;\"></td>\\r\\n                                                \\r\\n                                                <td>8.5</td>\\r\\n                                                \\r\\n                                                <td>94</td>\\r\\n                                                \\r\\n                                                <td>A</td>\\r\\n                                                \\r\\n\\t\\t\\t\\t\\t\\r\\n\\t\\t\\t\\t\\t</tr>\\r\\n\\t\\t\\t\\t\\r\\n\\t\\t\\t\\t\\t<tr class=\"even\">\\r\\n\\t\\t\\t\\t\\t\\r\\n\\t\\t\\t\\t\\t\\t<td>203083</td>\\r\\n\\t\\t\\t\\t\\t\\r\\n\\t\\t\\t\\t\\t\\t<td style=\"width: 600px;\">Modelagem e Simula\\xc3\\xa7\\xc3\\xa3o</td>\\r\\n\\t\\t\\t\\t\\t\\r\\n\\t\\t\\t\\t\\t\\t<td>A</td>\\r\\n\\t\\t\\t\\t\\t\\r\\n\\t\\t\\t\\t\\t\\t<td style=\"width: 130px;\">2018-1</td>\\r\\n                                                \\r\\n                                                <td>3</td>\\r\\n                                                \\r\\n                                                <td style=\"color:blue;\">9.1</td>\\r\\n                                                \\r\\n                                                <td style=\"color:blue;\">9.1</td>\\r\\n                                                \\r\\n                                                <td style=\"color:blue;\"></td>\\r\\n                                                \\r\\n                                                <td>9.1</td>\\r\\n                                                \\r\\n                                                <td>95</td>\\r\\n                                                \\r\\n                                                <td>A</td>\\r\\n                                                \\r\\n\\t\\t\\t\\t\\t\\r\\n\\t\\t\\t\\t\\t</tr>\\r\\n\\t\\t\\t\\t\\r\\n\\t\\t\\t\\t\\t<tr class=\"odd\">\\r\\n\\t\\t\\t\\t\\t\\r\\n\\t\\t\\t\\t\\t\\t<td>404055</td>\\r\\n\\t\\t\\t\\t\\t\\r\\n\\t\\t\\t\\t\\t\\t<td style=\"width: 600px;\">Economia</td>\\r\\n\\t\\t\\t\\t\\t\\r\\n\\t\\t\\t\\t\\t\\t<td>A</td>\\r\\n\\t\\t\\t\\t\\t\\r\\n\\t\\t\\t\\t\\t\\t<td style=\"width: 130px;\">2018-1</td>\\r\\n                                                \\r\\n                                                <td>12</td>\\r\\n                                                \\r\\n                                                <td style=\"color:blue;\">9.4</td>\\r\\n                                                \\r\\n                                                <td style=\"color:blue;\">9.4</td>\\r\\n                                                \\r\\n                                                <td style=\"color:blue;\"></td>\\r\\n                                                \\r\\n                                                <td>9.4</td>\\r\\n                                                \\r\\n                                                <td>82</td>\\r\\n                                                \\r\\n                                                <td>A</td>\\r\\n                                                \\r\\n\\t\\t\\t\\t\\t\\r\\n\\t\\t\\t\\t\\t</tr>\\r\\n\\t\\t\\t\\t\\r\\n\\t\\t\\t\\t\\t<tr class=\"even\">\\r\\n\\t\\t\\t\\t\\t\\r\\n\\t\\t\\t\\t\\t\\t<td>203127</td>\\r\\n\\t\\t\\t\\t\\t\\r\\n\\t\\t\\t\\t\\t\\t<td style=\"width: 600px;\">Est\\xc3\\xa1gio Supervisionado</td>\\r\\n\\t\\t\\t\\t\\t\\r\\n\\t\\t\\t\\t\\t\\t<td>A</td>\\r\\n\\t\\t\\t\\t\\t\\r\\n\\t\\t\\t\\t\\t\\t<td style=\"width: 130px;\">2018-2</td>\\r\\n                                                \\r\\n                                                <td>0</td>\\r\\n                                                \\r\\n                                                <td style=\"color:blue;\"></td>\\r\\n                                                \\r\\n                                                <td style=\"color:blue;\"></td>\\r\\n                                                \\r\\n                                                <td style=\"color:blue;\"></td>\\r\\n                                                \\r\\n                                                <td>0</td>\\r\\n                                                \\r\\n                                                <td>100</td>\\r\\n                                                \\r\\n                                                <td>R</td>\\r\\n                                                \\r\\n\\t\\t\\t\\t\\t\\r\\n\\t\\t\\t\\t\\t</tr>\\r\\n\\t\\t\\t\\t\\r\\n\\t\\t\\t\\t</tbody>\\r\\n\\t\\t\\t</table>\\r\\n                        </div>\\r\\n                        \\r\\n                        \\r\\n           <div class=\"alert alert-info\" role=\"alert\">Caso necessite imprimir o documento clique no \\xc3\\xadcone do pdf.</div>\\r\\n                        \\r\\n          <div class=\"reportBlock\">\\r\\n              <a href=\"/academicoonline/avaliacaoDesempenho/generate?reportName=AvaliacaoDesempenho\" target=\"jasperReport\">\\r\\n                <img src=\"/academicoonline/assets/pdf-1d1c2e3f803c11896c178aac3d3ff8ac.gif\" alt=\"Avalia&ccedil;&atilde;o de Desempenho.\" title=\"Avalia&ccedil;&atilde;o de Desempenho.\" border=\"0\"/>\\r\\n      \\r\\n              </a>\\r\\n              <b>Avalia&ccedil;&atilde;o de Desempenho</b>\\r\\n              <div class=\"tip\">Relat&oacute;rio de Avalia&ccedil;&atilde;o de Desempenho do Acad&ecirc;mico - Nota / M&eacute;dia / Frequ&ecirc;ncia.</div>\\r\\n          </div>\\r\\n                        \\r\\n\\t\\t\\t<div class=\"pagination\">\\r\\n\\t\\t\\t\\t\\r\\n\\t\\t\\t</div>\\r\\n\\t\\t</div>\\r\\n            </div>\\r\\n\\t\\r\\n    <div class=\"panel panel-default\" role=\"contentinfo\"></div>\\r\\n    <div id=\"spinner\" class=\"spinner\" style=\"display:none;\">Loading&hellip;</div>\\r\\n    \\r\\n    \\r\\n    <script src=\"/academicoonline/assets/bootstrap-e3bccdc29cf6e1d0f3e7bc54ccf086ef.js\" type=\"text/javascript\" ></script>\\r\\n    <script src=\"/academicoonline/assets/bootstrap.min-14c81aea11ff7701f0eb445ea8d301f7.js\" type=\"text/javascript\" ></script>\\r\\n    <script src=\"/academicoonline/assets/bootstrap-submenu-a51ed95082cc9b9aa20b29fd39682bb5.js\" type=\"text/javascript\" ></script>\\r\\n    <script src=\"/academicoonline/assets/bootstrap-submenu.min-ffe0829057b3f7cbd445a345db1da029.js\" type=\"text/javascript\" ></script>\\r\\n    <script src=\"/academicoonline/assets/fp-ca0ed68c196cfe289f108d19934a34d7.js\" type=\"text/javascript\" ></script>    \\r\\n    \\r\\n    <script type=\"text/javascript\">\\r\\n        $(function(){\\r\\n           /* $(\\'#myModal\\').modal(\\'show\\'); */\\r\\n            \\r\\n            $(\\'.dropdown-toggle\\').dropdown();\\r\\n            \\r\\n            $(\\'.dropdown-submenu\\').hover( function(){\\r\\n                $(\\'#dropdown-senha\\').dropdown();\\r\\n            });\\r\\n            \\r\\n            $(\\'.dropdown-submenu\\').on(\"click\", function(e){\\r\\n                $(this).next(\\'ul\\').toggle();\\r\\n                e.stopPropagation();\\r\\n                e.preventDefault();\\r\\n            });\\r\\n            \\r\\n        });\\r\\n    </script>\\r\\n    \\r\\n</body>\\r\\n</html>\\r\\n'"
      ]
     },
     "execution_count": 25,
     "metadata": {},
     "output_type": "execute_result"
    }
   ],
   "source": [
    "grades.content"
   ]
  },
  {
   "cell_type": "code",
   "execution_count": null,
   "metadata": {},
   "outputs": [],
   "source": []
  }
 ],
 "metadata": {
  "kernelspec": {
   "display_name": "Python 3",
   "language": "python",
   "name": "python3"
  },
  "language_info": {
   "codemirror_mode": {
    "name": "ipython",
    "version": 3
   },
   "file_extension": ".py",
   "mimetype": "text/x-python",
   "name": "python",
   "nbconvert_exporter": "python",
   "pygments_lexer": "ipython3",
   "version": "3.7.0"
  }
 },
 "nbformat": 4,
 "nbformat_minor": 2
}
